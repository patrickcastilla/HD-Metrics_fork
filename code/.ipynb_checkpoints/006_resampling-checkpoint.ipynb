{
 "cells": [
  {
   "cell_type": "code",
   "execution_count": 3,
   "id": "d19de6d6-2cd1-40d8-9a60-7e7ca468cebb",
   "metadata": {},
   "outputs": [],
   "source": [
    "%%capture\n",
    "import stata_setup, os\n",
    "if os.name == 'nt':\n",
    "    stata_setup.config('C:/Program Files/Stata17/','mp')\n",
    "else:\n",
    "    stata_setup.config('/usr/local/stata17','mp')"
   ]
  },
  {
   "cell_type": "markdown",
   "id": "85d7b727-46ac-4bfc-bdbd-5d08b0d7d22d",
   "metadata": {},
   "source": [
    "## Resampling Methods"
   ]
  },
  {
   "cell_type": "code",
   "execution_count": 4,
   "id": "62eee19d-0cbb-44b3-8552-5d09d4a183d5",
   "metadata": {},
   "outputs": [
    {
     "name": "stdout",
     "output_type": "stream",
     "text": [
      "\n"
     ]
    }
   ],
   "source": [
    "%%stata -qui\n",
    "\n",
    "use \"../data/data\", clear\n",
    "rename log_flesch_kincaid_grade_level FKG\n",
    "quietly tabulate year, generate(y_)\n",
    "quietly tabulate cluster, generate(c_)\n",
    "\n",
    "local journals  ecm jpe qje res  //AER based category\n",
    "\n",
    "local jel_imp a_imp b_imp c_imp  e_imp f_imp g_imp h_imp i_imp j_imp k_imp /// \n",
    "\t\tl_imp m_imp n_imp o_imp p_imp q_imp r_imp y_imp z_imp // D JEL based case"
   ]
  },
  {
   "cell_type": "markdown",
   "id": "0ca4da65-533b-4e31-ac68-1befded88a65",
   "metadata": {},
   "source": [
    "### Cross-Validation\n",
    "#### Validation Set Approach"
   ]
  },
  {
   "cell_type": "code",
   "execution_count": 5,
   "id": "69ea103d-3c45-4d09-a344-36bb0b202eac",
   "metadata": {},
   "outputs": [
    {
     "name": "stdout",
     "output_type": "stream",
     "text": [
      "\n"
     ]
    }
   ],
   "source": [
    "%%stata -qui\n",
    "splitsample , generate(sample) split(.80 .20) rseed(42)\n",
    "label define slabel 1 \"Training\" 2 \"Validation\"\n",
    "label values sample slabel"
   ]
  },
  {
   "cell_type": "code",
   "execution_count": 6,
   "id": "3975fb6b-8668-417f-a6bd-d9d0238afe96",
   "metadata": {},
   "outputs": [
    {
     "name": "stdout",
     "output_type": "stream",
     "text": [
      "\n",
      "     sample |      Freq.     Percent        Cum.\n",
      "------------+-----------------------------------\n",
      "   Training |      3,990       79.99       79.99\n",
      " Validation |        998       20.01      100.00\n",
      "------------+-----------------------------------\n",
      "      Total |      4,988      100.00\n"
     ]
    }
   ],
   "source": [
    "%stata tabulate sample"
   ]
  },
  {
   "cell_type": "code",
   "execution_count": 7,
   "id": "1b3aae03-fe43-42b8-ab6f-fc070c8aed24",
   "metadata": {},
   "outputs": [
    {
     "name": "stdout",
     "output_type": "stream",
     "text": [
      "\n"
     ]
    }
   ],
   "source": [
    "%%stata -qui\n",
    "#delimit ;\n",
    "qui reg FKG log_num_authors log_num_pages both_genders prop_women\n",
    "        `journals' `jel_imp' y_2-y_20  c_2-c_215  jel_flag\n",
    "        if sample==1;\n",
    "#delimit cr\n",
    "estimates store ols"
   ]
  },
  {
   "cell_type": "code",
   "execution_count": 8,
   "id": "ba3b3af6-bb87-4643-8bf4-36fc109f311f",
   "metadata": {},
   "outputs": [
    {
     "name": "stdout",
     "output_type": "stream",
     "text": [
      "\n",
      "Penalized coefficients\n",
      "-------------------------------------------------------------\n",
      "Name             sample |         MSE    R-squared        Obs\n",
      "------------------------+------------------------------------\n",
      "ols                     |\n",
      "               Training |    .0261068       0.0990      3,990\n",
      "             Validation |    .0254966      -0.0304        998\n",
      "-------------------------------------------------------------\n"
     ]
    }
   ],
   "source": [
    "%stata lassogof ols, over(sample)"
   ]
  },
  {
   "cell_type": "markdown",
   "id": "1df9bcda-ff86-402e-bd0d-55096f31a6d9",
   "metadata": {},
   "source": [
    "#### Leave-One-Out Cross-Validation"
   ]
  },
  {
   "cell_type": "markdown",
   "id": "8ebd1449-3951-4ccf-9e8d-e469c6245ec5",
   "metadata": {},
   "source": [
    "One needs to install the user-written package ```cv_regress``` by issuing the command ```ssc install cv_regress``` before executing the following code:"
   ]
  },
  {
   "cell_type": "code",
   "execution_count": 9,
   "id": "cb7237b6-ac1b-4d50-9413-0bd2c0eb4094",
   "metadata": {},
   "outputs": [
    {
     "name": "stdout",
     "output_type": "stream",
     "text": [
      "\n"
     ]
    }
   ],
   "source": [
    "%%stata -qui\n",
    "#delimit ;\n",
    "qui reg FKG log_num_authors log_num_pages both_genders prop_women\n",
    "        `journals' `jel_imp' y_2-y_20  c_2-c_215  jel_flag;\n",
    "#delimit cr"
   ]
  },
  {
   "cell_type": "code",
   "execution_count": 10,
   "id": "b3643d7e-8ce9-42bc-9963-7395a74c1201",
   "metadata": {},
   "outputs": [
    {
     "name": "stdout",
     "output_type": "stream",
     "text": [
      "\n",
      "\n",
      "Leave-One-Out Cross-Validation Results \n",
      "-----------------------------------------\n",
      "         Method          |    Value\n",
      "-------------------------+---------------\n",
      "Root Mean Squared Errors |       0.1692\n",
      "Log Mean Squared Errors  |      -3.5528\n",
      "Mean Absolute Errors     |       0.1305\n",
      "Pseudo-R2                |      0.02028\n",
      "-----------------------------------------\n"
     ]
    }
   ],
   "source": [
    "%stata cv_regress"
   ]
  },
  {
   "cell_type": "markdown",
   "id": "ec6c0dde-7da9-4f13-8069-e69e2c240e4f",
   "metadata": {},
   "source": [
    "Given the original sample $\\{Y_1,\\ldots,Y_n\\}$ and the loocv predictions $\\{\\widehat{Y}_1,\\ldots,\\widehat{Y}_n\\}$, then\n",
    "$$\n",
    "\\begin{align}\n",
    "\\text{Root Mean Squared Errors}&=&\\sqrt{n^{-1}\\sum_{i=1}^n(Y_i-\\widehat{Y}_i)^2}\\\\\n",
    "\\text{Mean Absolute Errors}&=&n^{-1}\\sum_{i=1}^n|Y_i-\\widehat{Y}_i|\\\\\n",
    "\\text{Pseudo-R2}&=&\\widehat{\\text{corr}}(Y_i,\\widehat{Y}_i)^2\n",
    "\\end{align}\n",
    "$$"
   ]
  },
  {
   "cell_type": "markdown",
   "id": "fffc4593-b59a-45de-98a7-29426a40fc65",
   "metadata": {},
   "source": [
    "#### _k_-Fold Cross-Validation"
   ]
  },
  {
   "cell_type": "markdown",
   "id": "ad7559b7-3ff3-4fcf-a94d-71f6a2c2c859",
   "metadata": {},
   "source": [
    "One needs to install the user-written package ```crossfold``` by issuing the command ```ssc install crossfold``` before executing the following code:"
   ]
  },
  {
   "cell_type": "code",
   "execution_count": 9,
   "id": "2f84bb8f-6a10-4990-a62a-ffec71430119",
   "metadata": {},
   "outputs": [
    {
     "name": "stdout",
     "output_type": "stream",
     "text": [
      "\n",
      ". \n",
      ". #delimit ;\n",
      "delimiter now ;\n",
      ". set seed 42;\n",
      "\n",
      ". crossfold reg FKG log_num_authors log_num_pages both_genders prop_women\n",
      ">               `journals' `jel_imp' y_2-y_20  c_2-c_215  jel_flag,\n",
      ">               k(5) stub(fold);\n",
      "\n",
      "             |      RMSE \n",
      "-------------+-----------\n",
      "       fold1 |  .1721115 \n",
      "       fold2 |  .1694547 \n",
      "       fold3 |  .1751916 \n",
      "       fold4 |  .1723403 \n",
      "       fold5 |  .1597371 \n",
      "\n",
      ". #delimit cr\n",
      "delimiter now cr\n",
      ". \n"
     ]
    }
   ],
   "source": [
    "%%stata\n",
    "\n",
    "#delimit ;\n",
    "set seed 42;\n",
    "crossfold reg FKG log_num_authors log_num_pages both_genders prop_women\n",
    "              `journals' `jel_imp' y_2-y_20  c_2-c_215  jel_flag,\n",
    "              k(5) stub(fold);\n",
    "* Inpongo 5 pliegues los cuales con stub les doy el nombre fold\n",
    "#delimit cr"
   ]
  },
  {
   "cell_type": "code",
   "execution_count": 10,
   "id": "d08b9dcd-9a85-4694-aa74-735996210381",
   "metadata": {},
   "outputs": [],
   "source": [
    "%%capture\n",
    "import pandas as pd\n",
    "from pystata import stata\n",
    "from sfi import Scalar, Matrix\n",
    "stata.run('''\n",
    "        #delimit ;\n",
    "        set seed 42;\n",
    "        crossfold reg FKG log_num_authors log_num_pages both_genders prop_women\n",
    "                      `journals' `jel_imp' y_2-y_20  c_2-c_215  jel_flag,\n",
    "                      k(5) stub(fold);\n",
    "        #delimit cr\n",
    "        ''')\n",
    "df_rmse = pd.DataFrame(sum(Matrix.get('r(fold)'),[]))\n",
    "rows = Matrix.getRowNames('r(fold)')\n",
    "\n",
    "stata.run('''\n",
    "        #delimit ;\n",
    "        set seed 42;\n",
    "        crossfold reg FKG log_num_authors log_num_pages both_genders prop_women\n",
    "                      `journals' `jel_imp' y_2-y_20  c_2-c_215  jel_flag,\n",
    "                      k(5) stub(fold) mae;\n",
    "        #delimit cr\n",
    "        ''')\n",
    "df_mae = pd.DataFrame(sum(Matrix.get('r(fold)'),[]))\n",
    "\n",
    "stata.run('''\n",
    "        #delimit ;\n",
    "        set seed 42;\n",
    "        crossfold reg FKG log_num_authors log_num_pages both_genders prop_women\n",
    "                      `journals' `jel_imp' y_2-y_20  c_2-c_215  jel_flag,\n",
    "                      k(5) stub(fold) r2;\n",
    "        #delimit cr\n",
    "        ''')\n",
    "df_r2 = pd.DataFrame(sum(Matrix.get('r(fold)'),[]))\n",
    "\n",
    "# Export to result with Dataframe format\n",
    "result = pd.concat([df_rmse,df_mae,df_r2],axis=1)\n",
    "result.columns = ['RMSE','MAE','pseudo R2']\n",
    "result.index = rows"
   ]
  },
  {
   "cell_type": "code",
   "execution_count": 11,
   "id": "d5bebc4c",
   "metadata": {},
   "outputs": [
    {
     "name": "stdout",
     "output_type": "stream",
     "text": [
      "           RMSE       MAE  pseudo R2\n",
      "fold1  0.172111  0.132485   0.008257\n",
      "fold2  0.169455  0.130320   0.020247\n",
      "fold3  0.175192  0.138475   0.014250\n",
      "fold4  0.172340  0.128805   0.032089\n",
      "fold5  0.159737  0.124862   0.022078\n"
     ]
    }
   ],
   "source": [
    "print(result)"
   ]
  },
  {
   "cell_type": "markdown",
   "id": "f4cf219a-e688-4554-adaa-787e3f0cd0f3",
   "metadata": {},
   "source": [
    "In this case $\\sqrt{CV_{(5)}}$ equals"
   ]
  },
  {
   "cell_type": "code",
   "execution_count": 12,
   "id": "bda939e0-3af8-4654-bfe0-59bff0205adf",
   "metadata": {},
   "outputs": [
    {
     "name": "stdout",
     "output_type": "stream",
     "text": [
      "0.16985079515275103\n"
     ]
    }
   ],
   "source": [
    "import math as math\n",
    "import statistics as st\n",
    "print(math.sqrt(st.mean(result['RMSE']**2)))"
   ]
  }
 ],
 "metadata": {
  "kernelspec": {
   "display_name": "Python 3 (ipykernel)",
   "language": "python",
   "name": "python3"
  },
  "language_info": {
   "codemirror_mode": {
    "name": "ipython",
    "version": 3
   },
   "file_extension": ".py",
   "mimetype": "text/x-python",
   "name": "python",
   "nbconvert_exporter": "python",
   "pygments_lexer": "ipython3",
   "version": "3.11.0"
  }
 },
 "nbformat": 4,
 "nbformat_minor": 5
}
