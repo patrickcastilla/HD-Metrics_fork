{
 "cells": [
  {
   "cell_type": "code",
   "execution_count": 1,
   "id": "cc9869ca-6449-4f07-a5e9-60a4b80e5749",
   "metadata": {},
   "outputs": [],
   "source": [
    "%%capture\n",
    "import stata_setup, os\n",
    "if os.name == 'nt':\n",
    "    stata_setup.config('C:/Program Files/Stata17/','mp')\n",
    "else:\n",
    "    stata_setup.config('/usr/local/stata17','mp')"
   ]
  },
  {
   "cell_type": "markdown",
   "id": "0a542440-f459-4f9e-a551-081bcb283008",
   "metadata": {},
   "source": [
    "## Preparing the data"
   ]
  },
  {
   "cell_type": "code",
   "execution_count": 3,
   "id": "aa28bc85-caa0-4ac0-a4e4-1a12dc14726d",
   "metadata": {},
   "outputs": [
    {
     "name": "stdout",
     "output_type": "stream",
     "text": [
      "\n",
      ". \n",
      ". use \"../data/data\", clear\n",
      "(Abstract Readability: Evidence from Top-5 Economics Journals, Econ. Lett., 202\n",
      "> 4)\n",
      "\n",
      ". gen prop_women_100 = prop_women*100 \n",
      "\n",
      ". rename log_flesch_kincaid_grade_level FKG\n",
      "\n",
      ". quietly tabulate year, generate(y_)\n",
      "\n",
      ". quietly tabulate cluster, generate(c_)\n",
      "\n",
      ". \n",
      ". local journals  ecm jpe qje res  //AER based category\n",
      "\n",
      ". \n",
      ". local jel_imp a_imp b_imp c_imp  e_imp f_imp g_imp h_imp i_imp j_imp k_imp //\n",
      "> / \n",
      ">                 l_imp m_imp n_imp o_imp p_imp q_imp r_imp y_imp z_imp // D JE\n",
      "> L based case\n",
      "\n",
      ". \n"
     ]
    }
   ],
   "source": [
    "%%stata \n",
    "\n",
    "use \"../data/data\", clear\n",
    "gen prop_women_100 = prop_women*100 \n",
    "rename log_flesch_kincaid_grade_level FKG\n",
    "quietly tabulate year, generate(y_)\n",
    "quietly tabulate cluster, generate(c_)\n",
    "\n",
    "local journals  ecm jpe qje res  //AER based category\n",
    "\n",
    "local jel_imp a_imp b_imp c_imp  e_imp f_imp g_imp h_imp i_imp j_imp k_imp /// \n",
    "\t\tl_imp m_imp n_imp o_imp p_imp q_imp r_imp y_imp z_imp // D JEL based case"
   ]
  },
  {
   "cell_type": "markdown",
   "id": "87decc49-9700-4984-ac19-b35cd3748eb7",
   "metadata": {},
   "source": [
    "## Post-Regularization Lasso"
   ]
  },
  {
   "cell_type": "markdown",
   "id": "0430aa01-f356-429d-8f4c-01ec896cefe5",
   "metadata": {},
   "source": [
    "The Post-Regularization (Partialing-Out) Lasso is implemented by the ```poregress``` Stata command. It'll utilize a 'plugin' value for the $\\lambda$s parameters by default, but they can also use standard cross-validation instead."
   ]
  },
  {
   "cell_type": "code",
   "execution_count": 3,
   "id": "c589a778-4098-437e-94e3-b52de2ef125e",
   "metadata": {},
   "outputs": [
    {
     "name": "stdout",
     "output_type": "stream",
     "text": [
      "\n"
     ]
    }
   ],
   "source": [
    "%%stata -qui\n",
    "#delimit ;\n",
    "poregress FKG  log_num_authors log_num_pages both_genders prop_women_100,\n",
    "\t\t\tcontrols(`journals' `jel_imp' y_2-y_20  c_2-c_215  jel_flag)\n",
    "            vce(cluster cluster) rseed(42);\n",
    "estimates store po_plugin;\n",
    "poregress FKG  log_num_authors log_num_pages both_genders prop_women_100,\n",
    "\t\t\tcontrols(`journals' `jel_imp' y_2-y_20  c_2-c_215  jel_flag)\n",
    "            vce(cluster cluster) selection(cv) rseed(42);\n",
    "estimates store po_cv;\n",
    "#delimit cr"
   ]
  },
  {
   "cell_type": "code",
   "execution_count": 4,
   "id": "1ac305b4-3d0d-4102-866e-0d42666e424a",
   "metadata": {},
   "outputs": [
    {
     "name": "stdout",
     "output_type": "stream",
     "text": [
      "\n",
      ". #delimit ;\n",
      "delimiter now ;\n",
      ". lassocoef (po_plugin, for(FKG)) (po_cv, for(FKG))\n",
      ">           (po_plugin, for(prop_women_100)) (po_cv, for(prop_women_100));\n",
      "\n",
      "-------------------------------------------------------------------\n",
      "             | po_plugin   po_cv       po_plugin         po_cv     \n",
      "             |    FKG       FKG     prop_women_100  prop_women_100 \n",
      "-------------+-----------------------------------------------------\n",
      "         c_4 |     x    \n",
      "        c_36 |     x    \n",
      "        c_50 |     x    \n",
      "       c_165 |     x    \n",
      "       c_183 |     x    \n",
      "        c_56 |                             x       \n",
      "        c_91 |                             x       \n",
      "       c_100 |                             x       \n",
      "       c_174 |                             x       \n",
      "       c_196 |                             x       \n",
      "       c_imp |                                             x       \n",
      "       i_imp |                                             x       \n",
      "       k_imp |                                             x       \n",
      "       l_imp |                                             x       \n",
      "       o_imp |                                             x       \n",
      "       z_imp |                                             x       \n",
      "        y_10 |                                             x       \n",
      "     x         x             x               x       \n",
      "-------------------------------------------------------------------\n",
      "Legend:\n",
      "  b - base level\n",
      "  e - empty cell\n",
      "  o - omitted\n",
      "  x - estimated\n",
      "\n",
      ". #delimit cr\n",
      "delimiter now cr\n",
      ". \n"
     ]
    }
   ],
   "source": [
    "%%stata\n",
    "#delimit ;\n",
    "lassocoef (po_plugin, for(FKG)) (po_cv, for(FKG))\n",
    "          (po_plugin, for(prop_women_100)) (po_cv, for(prop_women_100));\n",
    "#delimit cr"
   ]
  },
  {
   "cell_type": "code",
   "execution_count": 5,
   "id": "60dfdd98-04bb-4bc6-ac0a-fd09ddead381",
   "metadata": {},
   "outputs": [
    {
     "name": "stdout",
     "output_type": "stream",
     "text": [
      "\n",
      ". estimates restore po_cv\n",
      "(results po_cv are active now)\n",
      "\n",
      ". poregress\n",
      "\n",
      "Partialing-out linear model          Number of obs                =      4,988\n",
      "                                     Number of controls           =        257\n",
      "                                     Number of selected controls  =         37\n",
      "                                     Wald chi2(4)                 =      11.16\n",
      "                                     Prob > chi2                  =     0.0248\n",
      "\n",
      "                              (Std. err. adjusted for 215 clusters in cluster)\n",
      "------------------------------------------------------------------------------\n",
      "             |               Robust\n",
      "         FKG | Coefficient  std. err.      z    P>|z|     [95% conf. interval]\n",
      "-------------+----------------------------------------------------------------\n",
      "log_num_au~s |  -.0029956   .0051732    -0.58   0.563    -.0131349    .0071438\n",
      "log_num_pa~s |   .0161292   .0055794     2.89   0.004     .0051939    .0270646\n",
      "both_genders |  -.0021614   .0040552    -0.53   0.594    -.0101093    .0057866\n",
      "prop_wom~100 |  -.0001582   .0000725    -2.18   0.029    -.0003004    -.000016\n",
      "------------------------------------------------------------------------------\n",
      "Note: Chi-squared test is a Wald test of the coefficients of the variables\n",
      "      of interest jointly equal to zero. Lassos select controls for model\n",
      "      estimation. Type lassoinfo to see number of selected variables in each\n",
      "      lasso.\n",
      "Note: Lassos are performed accounting for clusters in cluster.\n",
      "\n",
      ". \n"
     ]
    }
   ],
   "source": [
    "%%stata\n",
    "estimates restore po_cv\n",
    "poregress"
   ]
  }
 ],
 "metadata": {
  "kernelspec": {
   "display_name": "Python 3 (ipykernel)",
   "language": "python",
   "name": "python3"
  },
  "language_info": {
   "codemirror_mode": {
    "name": "ipython",
    "version": 3
   },
   "file_extension": ".py",
   "mimetype": "text/x-python",
   "name": "python",
   "nbconvert_exporter": "python",
   "pygments_lexer": "ipython3",
   "version": "3.11.0"
  }
 },
 "nbformat": 4,
 "nbformat_minor": 5
}
